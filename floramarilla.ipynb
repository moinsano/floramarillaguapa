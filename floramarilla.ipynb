{
 "cells": [
  {
   "cell_type": "code",
   "execution_count": 1,
   "metadata": {},
   "outputs": [],
   "source": [
    "from turtle import *\n",
    "import turtle, math\n",
    "\n",
    "tracer(2)\n",
    "h = 0\n",
    "bgcolor('black')\n",
    "pensize(2)\n",
    "color('yellow')\n",
    "\n",
    "for i in range(195):\n",
    "    h += 0.006\n",
    "    lt(179)\n",
    "    backward(i*0.1)\n",
    "    circle(i*0.1, 120)\n",
    "    rt(14)\n",
    "    forward(i*0.1)\n",
    "    circle(i*0.3, 120)\n",
    "\n",
    "turtle.shape('turtle')\n",
    "turtle.pencolor('orangered')\n",
    "turtle.fillcolor('orange')\n",
    "phi = 137.508 * (math.pi / 180.0)\n",
    "for i in range(300):\n",
    "    r = 4 * math.sqrt(i)\n",
    "    theta= i * phi\n",
    "    x = r * math.cos(theta)\n",
    "    y = r * math.sin(theta)\n",
    "    turtle.penup()\n",
    "    turtle.goto(x, y)\n",
    "    turtle.setheading(i * 137.508)\n",
    "    turtle.pendown()\n",
    "    turtle.stamp()\n",
    "\n",
    "done()"
   ]
  }
 ],
 "metadata": {
  "kernelspec": {
   "display_name": "Python 3",
   "language": "python",
   "name": "python3"
  },
  "language_info": {
   "codemirror_mode": {
    "name": "ipython",
    "version": 3
   },
   "file_extension": ".py",
   "mimetype": "text/x-python",
   "name": "python",
   "nbconvert_exporter": "python",
   "pygments_lexer": "ipython3",
   "version": "3.7.9"
  }
 },
 "nbformat": 4,
 "nbformat_minor": 2
}
