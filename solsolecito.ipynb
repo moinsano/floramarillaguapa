{
 "cells": [
  {
   "cell_type": "code",
   "execution_count": 1,
   "metadata": {},
   "outputs": [],
   "source": [
    "import turtle\n",
    "count = 1\n",
    "t = turtle.Turtle()\n",
    "turtle.bgcolor(\"black\")\n",
    "t.speed(0)\n",
    "\n",
    "while count < 300:\n",
    "    t.forward(count)\n",
    "    t.color(\"yellow\")\n",
    "    t.left(143)\n",
    "    t.left(1)\n",
    "    count += 1\n",
    "    t.forward(count)\n",
    "    t.color(\"greenyellow\")\n",
    "    t.right(350)\n",
    "    t.radians\n",
    "    t.color(\"orange\")\n",
    "    t.right(30)\n",
    "t.hideturtle()\n",
    "turtle.done()"
   ]
  }
 ],
 "metadata": {
  "kernelspec": {
   "display_name": "Python 3",
   "language": "python",
   "name": "python3"
  },
  "language_info": {
   "codemirror_mode": {
    "name": "ipython",
    "version": 3
   },
   "file_extension": ".py",
   "mimetype": "text/x-python",
   "name": "python",
   "nbconvert_exporter": "python",
   "pygments_lexer": "ipython3",
   "version": "3.7.9"
  }
 },
 "nbformat": 4,
 "nbformat_minor": 2
}
