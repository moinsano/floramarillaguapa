{
 "cells": [
  {
   "cell_type": "code",
   "execution_count": 2,
   "metadata": {},
   "outputs": [],
   "source": [
    "import math\n",
    "import turtle\n",
    "\n",
    "t = turtle.Turtle()\n",
    "turtle.speed(2000)\n",
    "turtle.bgcolor(\"black\")\n",
    "\n",
    "def corazon(k):\n",
    "    return 15*math.sin(k)**3\n",
    "\n",
    "def corazon1(k):\n",
    "    return 12*math.cos(k)-5*\\\n",
    "            math.cos(2*k)-2*\\\n",
    "            math.cos(3*k)-\\\n",
    "            math.cos(4*k)\n",
    "\n",
    "for i in range(600):\n",
    "    t.goto(corazon(i)*18, corazon1(i)*18)\n",
    "    for j in range(5):\n",
    "        t.color(\"red\")\n",
    "\n",
    "t.color(\"gold\")\n",
    "t.penup()\n",
    "t.goto(115, -40)\n",
    "t.pendown()\n",
    "t.write(\"Ireallylikeu\", False,\n",
    "        \"right\", (\"arial\", 30, \"bold\"))\n",
    "\n",
    "t.hideturtle()\n",
    "turtle.done()"
   ]
  }
 ],
 "metadata": {
  "kernelspec": {
   "display_name": "Python 3",
   "language": "python",
   "name": "python3"
  },
  "language_info": {
   "codemirror_mode": {
    "name": "ipython",
    "version": 3
   },
   "file_extension": ".py",
   "mimetype": "text/x-python",
   "name": "python",
   "nbconvert_exporter": "python",
   "pygments_lexer": "ipython3",
   "version": "3.7.9"
  }
 },
 "nbformat": 4,
 "nbformat_minor": 2
}
